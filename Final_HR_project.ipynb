{
 "cells": [
  {
   "cell_type": "markdown",
   "metadata": {
    "id": "ysS5rgTMWpwL"
   },
   "source": [
    "# **Capstone project: Providing data-driven suggestions for HR**"
   ]
  },
  {
   "cell_type": "markdown",
   "metadata": {
    "id": "gLEEr6peWcF7"
   },
   "source": [
    "### Understand the business scenario and problem\n",
    "\n",
    " The goal of the project is to help the HR department at Salifort Motors to take some initiatives to improve employee satisfaction levels at the company through data driven insights. They collected data from employees, but now they don’t know what to do with it. The main goal to understand through the data is what’s likely to make the employee leave the company?\n",
    "\n",
    "To address this this project will focus on analyzing the data collected by the HR department and to build a model that predicts whether or not an employee will leave the company.\n",
    "\n",
    "If you can predict employees likely to quit, it might be possible to identify factors that contribute to their leaving. Because it is time-consuming and expensive to find, interview, and hire new employees, increasing employee retention will be beneficial to the company."
   ]
  },
  {
   "cell_type": "markdown",
   "metadata": {
    "id": "51UAXIOLC_8P"
   },
   "source": [
    "### Import packages"
   ]
  },
  {
   "cell_type": "code",
   "execution_count": 1,
   "metadata": {
    "id": "hVWGpX9As4e1"
   },
   "outputs": [],
   "source": [
    "# Import packages\n",
    "# For data manipulation\n",
    "\n",
    "import numpy as np\n",
    "import pandas as pd\n",
    "import seaborn as sns\n",
    "# Import packages for data visualization\n",
    "import matplotlib.pyplot as plt\n",
    "\n",
    "# This lets us see all of the columns, preventing Juptyer from redacting them.\n",
    "pd.set_option('display.max_columns', None)\n",
    "\n",
    "# Import packages for data modeling\n",
    "from sklearn.model_selection import GridSearchCV, train_test_split\n",
    "from sklearn.metrics import roc_auc_score, roc_curve, auc\n",
    "from sklearn.metrics import accuracy_score, precision_score, recall_score,\\\n",
    "f1_score, confusion_matrix, ConfusionMatrixDisplay, RocCurveDisplay, PrecisionRecallDisplay\n",
    "\n",
    "from sklearn.ensemble import RandomForestClassifier\n",
    "from xgboost import XGBClassifier\n",
    "\n",
    "# This is the function that helps plot feature importance\n",
    "from xgboost import plot_importance\n",
    "\n",
    "# This module lets us save our models once we fit them.\n",
    "import pickle"
   ]
  },
  {
   "cell_type": "code",
   "execution_count": 2,
   "metadata": {
    "id": "Bs0cJR5BDPgQ"
   },
   "outputs": [
    {
     "data": {
      "text/html": [
       "<div>\n",
       "<style scoped>\n",
       "    .dataframe tbody tr th:only-of-type {\n",
       "        vertical-align: middle;\n",
       "    }\n",
       "\n",
       "    .dataframe tbody tr th {\n",
       "        vertical-align: top;\n",
       "    }\n",
       "\n",
       "    .dataframe thead th {\n",
       "        text-align: right;\n",
       "    }\n",
       "</style>\n",
       "<table border=\"1\" class=\"dataframe\">\n",
       "  <thead>\n",
       "    <tr style=\"text-align: right;\">\n",
       "      <th></th>\n",
       "      <th>satisfaction_level</th>\n",
       "      <th>last_evaluation</th>\n",
       "      <th>number_project</th>\n",
       "      <th>average_montly_hours</th>\n",
       "      <th>time_spend_company</th>\n",
       "      <th>Work_accident</th>\n",
       "      <th>left</th>\n",
       "      <th>promotion_last_5years</th>\n",
       "      <th>Department</th>\n",
       "      <th>salary</th>\n",
       "    </tr>\n",
       "  </thead>\n",
       "  <tbody>\n",
       "    <tr>\n",
       "      <th>0</th>\n",
       "      <td>0.38</td>\n",
       "      <td>0.53</td>\n",
       "      <td>2</td>\n",
       "      <td>157</td>\n",
       "      <td>3</td>\n",
       "      <td>0</td>\n",
       "      <td>1</td>\n",
       "      <td>0</td>\n",
       "      <td>sales</td>\n",
       "      <td>low</td>\n",
       "    </tr>\n",
       "    <tr>\n",
       "      <th>1</th>\n",
       "      <td>0.80</td>\n",
       "      <td>0.86</td>\n",
       "      <td>5</td>\n",
       "      <td>262</td>\n",
       "      <td>6</td>\n",
       "      <td>0</td>\n",
       "      <td>1</td>\n",
       "      <td>0</td>\n",
       "      <td>sales</td>\n",
       "      <td>medium</td>\n",
       "    </tr>\n",
       "    <tr>\n",
       "      <th>2</th>\n",
       "      <td>0.11</td>\n",
       "      <td>0.88</td>\n",
       "      <td>7</td>\n",
       "      <td>272</td>\n",
       "      <td>4</td>\n",
       "      <td>0</td>\n",
       "      <td>1</td>\n",
       "      <td>0</td>\n",
       "      <td>sales</td>\n",
       "      <td>medium</td>\n",
       "    </tr>\n",
       "    <tr>\n",
       "      <th>3</th>\n",
       "      <td>0.72</td>\n",
       "      <td>0.87</td>\n",
       "      <td>5</td>\n",
       "      <td>223</td>\n",
       "      <td>5</td>\n",
       "      <td>0</td>\n",
       "      <td>1</td>\n",
       "      <td>0</td>\n",
       "      <td>sales</td>\n",
       "      <td>low</td>\n",
       "    </tr>\n",
       "    <tr>\n",
       "      <th>4</th>\n",
       "      <td>0.37</td>\n",
       "      <td>0.52</td>\n",
       "      <td>2</td>\n",
       "      <td>159</td>\n",
       "      <td>3</td>\n",
       "      <td>0</td>\n",
       "      <td>1</td>\n",
       "      <td>0</td>\n",
       "      <td>sales</td>\n",
       "      <td>low</td>\n",
       "    </tr>\n",
       "    <tr>\n",
       "      <th>5</th>\n",
       "      <td>0.41</td>\n",
       "      <td>0.50</td>\n",
       "      <td>2</td>\n",
       "      <td>153</td>\n",
       "      <td>3</td>\n",
       "      <td>0</td>\n",
       "      <td>1</td>\n",
       "      <td>0</td>\n",
       "      <td>sales</td>\n",
       "      <td>low</td>\n",
       "    </tr>\n",
       "    <tr>\n",
       "      <th>6</th>\n",
       "      <td>0.10</td>\n",
       "      <td>0.77</td>\n",
       "      <td>6</td>\n",
       "      <td>247</td>\n",
       "      <td>4</td>\n",
       "      <td>0</td>\n",
       "      <td>1</td>\n",
       "      <td>0</td>\n",
       "      <td>sales</td>\n",
       "      <td>low</td>\n",
       "    </tr>\n",
       "    <tr>\n",
       "      <th>7</th>\n",
       "      <td>0.92</td>\n",
       "      <td>0.85</td>\n",
       "      <td>5</td>\n",
       "      <td>259</td>\n",
       "      <td>5</td>\n",
       "      <td>0</td>\n",
       "      <td>1</td>\n",
       "      <td>0</td>\n",
       "      <td>sales</td>\n",
       "      <td>low</td>\n",
       "    </tr>\n",
       "    <tr>\n",
       "      <th>8</th>\n",
       "      <td>0.89</td>\n",
       "      <td>1.00</td>\n",
       "      <td>5</td>\n",
       "      <td>224</td>\n",
       "      <td>5</td>\n",
       "      <td>0</td>\n",
       "      <td>1</td>\n",
       "      <td>0</td>\n",
       "      <td>sales</td>\n",
       "      <td>low</td>\n",
       "    </tr>\n",
       "    <tr>\n",
       "      <th>9</th>\n",
       "      <td>0.42</td>\n",
       "      <td>0.53</td>\n",
       "      <td>2</td>\n",
       "      <td>142</td>\n",
       "      <td>3</td>\n",
       "      <td>0</td>\n",
       "      <td>1</td>\n",
       "      <td>0</td>\n",
       "      <td>sales</td>\n",
       "      <td>low</td>\n",
       "    </tr>\n",
       "  </tbody>\n",
       "</table>\n",
       "</div>"
      ],
      "text/plain": [
       "   satisfaction_level  last_evaluation  number_project  average_montly_hours  \\\n",
       "0                0.38             0.53               2                   157   \n",
       "1                0.80             0.86               5                   262   \n",
       "2                0.11             0.88               7                   272   \n",
       "3                0.72             0.87               5                   223   \n",
       "4                0.37             0.52               2                   159   \n",
       "5                0.41             0.50               2                   153   \n",
       "6                0.10             0.77               6                   247   \n",
       "7                0.92             0.85               5                   259   \n",
       "8                0.89             1.00               5                   224   \n",
       "9                0.42             0.53               2                   142   \n",
       "\n",
       "   time_spend_company  Work_accident  left  promotion_last_5years Department  \\\n",
       "0                   3              0     1                      0      sales   \n",
       "1                   6              0     1                      0      sales   \n",
       "2                   4              0     1                      0      sales   \n",
       "3                   5              0     1                      0      sales   \n",
       "4                   3              0     1                      0      sales   \n",
       "5                   3              0     1                      0      sales   \n",
       "6                   4              0     1                      0      sales   \n",
       "7                   5              0     1                      0      sales   \n",
       "8                   5              0     1                      0      sales   \n",
       "9                   3              0     1                      0      sales   \n",
       "\n",
       "   salary  \n",
       "0     low  \n",
       "1  medium  \n",
       "2  medium  \n",
       "3     low  \n",
       "4     low  \n",
       "5     low  \n",
       "6     low  \n",
       "7     low  \n",
       "8     low  \n",
       "9     low  "
      ]
     },
     "execution_count": 2,
     "metadata": {},
     "output_type": "execute_result"
    }
   ],
   "source": [
    "# RUN THIS CELL TO IMPORT YOUR DATA. \n",
    "\n",
    "# Load dataset into a dataframe\n",
    "### YOUR CODE HERE ###\n",
    "df0 = pd.read_csv(\"HR_capstone_dataset.csv\")\n",
    "\n",
    "\n",
    "# Display first few rows of the dataframe\n",
    "df0.head(10)\n"
   ]
  },
  {
   "cell_type": "markdown",
   "metadata": {
    "id": "wF_LLorPs5G_"
   },
   "source": [
    "## Step 2. Data Exploration (Initial EDA and data cleaning)\n",
    "\n",
    "- Understand the variables\n",
    "- Clean your dataset (missing data, redundant data, outliers)\n",
    "\n"
   ]
  },
  {
   "cell_type": "markdown",
   "metadata": {
    "id": "3LF6h1v9FYz2"
   },
   "source": [
    "### Gather basic information about the data"
   ]
  },
  {
   "cell_type": "code",
   "execution_count": 3,
   "metadata": {
    "id": "6XbfdPoKurMf"
   },
   "outputs": [
    {
     "name": "stdout",
     "output_type": "stream",
     "text": [
      "<class 'pandas.core.frame.DataFrame'>\n",
      "RangeIndex: 14999 entries, 0 to 14998\n",
      "Data columns (total 10 columns):\n",
      " #   Column                 Non-Null Count  Dtype  \n",
      "---  ------                 --------------  -----  \n",
      " 0   satisfaction_level     14999 non-null  float64\n",
      " 1   last_evaluation        14999 non-null  float64\n",
      " 2   number_project         14999 non-null  int64  \n",
      " 3   average_montly_hours   14999 non-null  int64  \n",
      " 4   time_spend_company     14999 non-null  int64  \n",
      " 5   Work_accident          14999 non-null  int64  \n",
      " 6   left                   14999 non-null  int64  \n",
      " 7   promotion_last_5years  14999 non-null  int64  \n",
      " 8   Department             14999 non-null  object \n",
      " 9   salary                 14999 non-null  object \n",
      "dtypes: float64(2), int64(6), object(2)\n",
      "memory usage: 1.1+ MB\n"
     ]
    }
   ],
   "source": [
    "# Gather basic information about the data\n",
    "df0.info()\n"
   ]
  },
  {
   "cell_type": "markdown",
   "metadata": {
    "id": "6JMl_rQ1Fgte"
   },
   "source": [
    "### Gather descriptive statistics about the data"
   ]
  },
  {
   "cell_type": "code",
   "execution_count": 4,
   "metadata": {
    "id": "_5VRL-kzE8y1"
   },
   "outputs": [
    {
     "data": {
      "text/html": [
       "<div>\n",
       "<style scoped>\n",
       "    .dataframe tbody tr th:only-of-type {\n",
       "        vertical-align: middle;\n",
       "    }\n",
       "\n",
       "    .dataframe tbody tr th {\n",
       "        vertical-align: top;\n",
       "    }\n",
       "\n",
       "    .dataframe thead th {\n",
       "        text-align: right;\n",
       "    }\n",
       "</style>\n",
       "<table border=\"1\" class=\"dataframe\">\n",
       "  <thead>\n",
       "    <tr style=\"text-align: right;\">\n",
       "      <th></th>\n",
       "      <th>satisfaction_level</th>\n",
       "      <th>last_evaluation</th>\n",
       "      <th>number_project</th>\n",
       "      <th>average_montly_hours</th>\n",
       "      <th>time_spend_company</th>\n",
       "      <th>Work_accident</th>\n",
       "      <th>left</th>\n",
       "      <th>promotion_last_5years</th>\n",
       "    </tr>\n",
       "  </thead>\n",
       "  <tbody>\n",
       "    <tr>\n",
       "      <th>count</th>\n",
       "      <td>14999.000000</td>\n",
       "      <td>14999.000000</td>\n",
       "      <td>14999.000000</td>\n",
       "      <td>14999.000000</td>\n",
       "      <td>14999.000000</td>\n",
       "      <td>14999.000000</td>\n",
       "      <td>14999.000000</td>\n",
       "      <td>14999.000000</td>\n",
       "    </tr>\n",
       "    <tr>\n",
       "      <th>mean</th>\n",
       "      <td>0.612834</td>\n",
       "      <td>0.716102</td>\n",
       "      <td>3.803054</td>\n",
       "      <td>201.050337</td>\n",
       "      <td>3.498233</td>\n",
       "      <td>0.144610</td>\n",
       "      <td>0.238083</td>\n",
       "      <td>0.021268</td>\n",
       "    </tr>\n",
       "    <tr>\n",
       "      <th>std</th>\n",
       "      <td>0.248631</td>\n",
       "      <td>0.171169</td>\n",
       "      <td>1.232592</td>\n",
       "      <td>49.943099</td>\n",
       "      <td>1.460136</td>\n",
       "      <td>0.351719</td>\n",
       "      <td>0.425924</td>\n",
       "      <td>0.144281</td>\n",
       "    </tr>\n",
       "    <tr>\n",
       "      <th>min</th>\n",
       "      <td>0.090000</td>\n",
       "      <td>0.360000</td>\n",
       "      <td>2.000000</td>\n",
       "      <td>96.000000</td>\n",
       "      <td>2.000000</td>\n",
       "      <td>0.000000</td>\n",
       "      <td>0.000000</td>\n",
       "      <td>0.000000</td>\n",
       "    </tr>\n",
       "    <tr>\n",
       "      <th>25%</th>\n",
       "      <td>0.440000</td>\n",
       "      <td>0.560000</td>\n",
       "      <td>3.000000</td>\n",
       "      <td>156.000000</td>\n",
       "      <td>3.000000</td>\n",
       "      <td>0.000000</td>\n",
       "      <td>0.000000</td>\n",
       "      <td>0.000000</td>\n",
       "    </tr>\n",
       "    <tr>\n",
       "      <th>50%</th>\n",
       "      <td>0.640000</td>\n",
       "      <td>0.720000</td>\n",
       "      <td>4.000000</td>\n",
       "      <td>200.000000</td>\n",
       "      <td>3.000000</td>\n",
       "      <td>0.000000</td>\n",
       "      <td>0.000000</td>\n",
       "      <td>0.000000</td>\n",
       "    </tr>\n",
       "    <tr>\n",
       "      <th>75%</th>\n",
       "      <td>0.820000</td>\n",
       "      <td>0.870000</td>\n",
       "      <td>5.000000</td>\n",
       "      <td>245.000000</td>\n",
       "      <td>4.000000</td>\n",
       "      <td>0.000000</td>\n",
       "      <td>0.000000</td>\n",
       "      <td>0.000000</td>\n",
       "    </tr>\n",
       "    <tr>\n",
       "      <th>max</th>\n",
       "      <td>1.000000</td>\n",
       "      <td>1.000000</td>\n",
       "      <td>7.000000</td>\n",
       "      <td>310.000000</td>\n",
       "      <td>10.000000</td>\n",
       "      <td>1.000000</td>\n",
       "      <td>1.000000</td>\n",
       "      <td>1.000000</td>\n",
       "    </tr>\n",
       "  </tbody>\n",
       "</table>\n",
       "</div>"
      ],
      "text/plain": [
       "       satisfaction_level  last_evaluation  number_project  \\\n",
       "count        14999.000000     14999.000000    14999.000000   \n",
       "mean             0.612834         0.716102        3.803054   \n",
       "std              0.248631         0.171169        1.232592   \n",
       "min              0.090000         0.360000        2.000000   \n",
       "25%              0.440000         0.560000        3.000000   \n",
       "50%              0.640000         0.720000        4.000000   \n",
       "75%              0.820000         0.870000        5.000000   \n",
       "max              1.000000         1.000000        7.000000   \n",
       "\n",
       "       average_montly_hours  time_spend_company  Work_accident          left  \\\n",
       "count          14999.000000        14999.000000   14999.000000  14999.000000   \n",
       "mean             201.050337            3.498233       0.144610      0.238083   \n",
       "std               49.943099            1.460136       0.351719      0.425924   \n",
       "min               96.000000            2.000000       0.000000      0.000000   \n",
       "25%              156.000000            3.000000       0.000000      0.000000   \n",
       "50%              200.000000            3.000000       0.000000      0.000000   \n",
       "75%              245.000000            4.000000       0.000000      0.000000   \n",
       "max              310.000000           10.000000       1.000000      1.000000   \n",
       "\n",
       "       promotion_last_5years  \n",
       "count           14999.000000  \n",
       "mean                0.021268  \n",
       "std                 0.144281  \n",
       "min                 0.000000  \n",
       "25%                 0.000000  \n",
       "50%                 0.000000  \n",
       "75%                 0.000000  \n",
       "max                 1.000000  "
      ]
     },
     "execution_count": 4,
     "metadata": {},
     "output_type": "execute_result"
    }
   ],
   "source": [
    "# Gather descriptive statistics about the data\n",
    "df0.describe()\n"
   ]
  },
  {
   "cell_type": "markdown",
   "metadata": {
    "id": "QR7eFNU0FklJ"
   },
   "source": [
    "### Rename columns"
   ]
  },
  {
   "cell_type": "markdown",
   "metadata": {
    "id": "_TtE0JLPJyLF"
   },
   "source": [
    "As a data cleaning step, rename the columns as needed. Standardize the column names so that they are all in `snake_case`, correct any column names that are misspelled, and make column names more concise as needed."
   ]
  },
  {
   "cell_type": "code",
   "execution_count": 5,
   "metadata": {
    "id": "kEn21u2bqrEI"
   },
   "outputs": [
    {
     "name": "stdout",
     "output_type": "stream",
     "text": [
      "satisfaction_level\n",
      "last_evaluation\n",
      "number_project\n",
      "average_montly_hours\n",
      "time_spend_company\n",
      "Work_accident\n",
      "left\n",
      "promotion_last_5years\n",
      "Department\n",
      "salary\n"
     ]
    }
   ],
   "source": [
    "# Display all column names\n",
    "for col in df0.columns:\n",
    "    print(col)"
   ]
  },
  {
   "cell_type": "code",
   "execution_count": 6,
   "metadata": {
    "id": "npUQA8jMFJQD"
   },
   "outputs": [
    {
     "name": "stdout",
     "output_type": "stream",
     "text": [
      "satisfaction_level\n",
      "last_evaluation\n",
      "number_of_projects\n",
      "average_monthly_hours\n",
      "tenure\n",
      "work_accidents\n",
      "resignation\n",
      "promotion_last_5years\n",
      "department\n",
      "salary\n"
     ]
    }
   ],
   "source": [
    "# Rename columns as needed\n",
    "df1 = df0\n",
    "\n",
    "df1.columns = df1.columns.str.replace(' ', '_').str.lower()\n",
    "\n",
    "df1.rename(columns = {'number_project':'number_of_projects'}, inplace = True)\n",
    "df1.rename(columns = {'average_montly_hours':'average_monthly_hours'}, inplace = True)\n",
    "df1.rename(columns = {'time_spend_company':'tenure'}, inplace = True)\n",
    "df1.rename(columns = {'work_accident':'work_accidents'}, inplace = True)\n",
    "df1.rename(columns = {'left':'resignation'}, inplace = True)\n",
    "\n",
    "\n",
    "# Display all column names after the update\n",
    "for col in df1.columns:\n",
    "    print(col)\n"
   ]
  },
  {
   "cell_type": "markdown",
   "metadata": {
    "id": "e-G2QlQxBq__"
   },
   "source": [
    "### Check missing values"
   ]
  },
  {
   "cell_type": "markdown",
   "metadata": {
    "id": "GeiUUqeaBt-I"
   },
   "source": [
    "Check for any missing values in the data."
   ]
  },
  {
   "cell_type": "code",
   "execution_count": 7,
   "metadata": {
    "id": "EN9MvN0GByVV"
   },
   "outputs": [
    {
     "data": {
      "text/plain": [
       "satisfaction_level       False\n",
       "last_evaluation          False\n",
       "number_of_projects       False\n",
       "average_monthly_hours    False\n",
       "tenure                   False\n",
       "work_accidents           False\n",
       "resignation              False\n",
       "promotion_last_5years    False\n",
       "department               False\n",
       "salary                   False\n",
       "dtype: bool"
      ]
     },
     "execution_count": 7,
     "metadata": {},
     "output_type": "execute_result"
    }
   ],
   "source": [
    "# Check for missing values\n",
    "df1.isnull().any()\n"
   ]
  },
  {
   "cell_type": "markdown",
   "metadata": {
    "id": "hBvrijItKQI9"
   },
   "source": [
    "### Check duplicates"
   ]
  },
  {
   "cell_type": "markdown",
   "metadata": {
    "id": "Q7ystBsdsGaL"
   },
   "source": [
    "Check for any duplicate entries in the data."
   ]
  },
  {
   "cell_type": "code",
   "execution_count": 8,
   "metadata": {
    "id": "CFFLc5AOZ7-x"
   },
   "outputs": [
    {
     "data": {
      "text/html": [
       "<div>\n",
       "<style scoped>\n",
       "    .dataframe tbody tr th:only-of-type {\n",
       "        vertical-align: middle;\n",
       "    }\n",
       "\n",
       "    .dataframe tbody tr th {\n",
       "        vertical-align: top;\n",
       "    }\n",
       "\n",
       "    .dataframe thead th {\n",
       "        text-align: right;\n",
       "    }\n",
       "</style>\n",
       "<table border=\"1\" class=\"dataframe\">\n",
       "  <thead>\n",
       "    <tr style=\"text-align: right;\">\n",
       "      <th></th>\n",
       "      <th>satisfaction_level</th>\n",
       "      <th>last_evaluation</th>\n",
       "      <th>number_of_projects</th>\n",
       "      <th>average_monthly_hours</th>\n",
       "      <th>tenure</th>\n",
       "      <th>work_accidents</th>\n",
       "      <th>resignation</th>\n",
       "      <th>promotion_last_5years</th>\n",
       "      <th>department</th>\n",
       "      <th>salary</th>\n",
       "    </tr>\n",
       "  </thead>\n",
       "  <tbody>\n",
       "    <tr>\n",
       "      <th>396</th>\n",
       "      <td>0.46</td>\n",
       "      <td>0.57</td>\n",
       "      <td>2</td>\n",
       "      <td>139</td>\n",
       "      <td>3</td>\n",
       "      <td>0</td>\n",
       "      <td>1</td>\n",
       "      <td>0</td>\n",
       "      <td>sales</td>\n",
       "      <td>low</td>\n",
       "    </tr>\n",
       "    <tr>\n",
       "      <th>866</th>\n",
       "      <td>0.41</td>\n",
       "      <td>0.46</td>\n",
       "      <td>2</td>\n",
       "      <td>128</td>\n",
       "      <td>3</td>\n",
       "      <td>0</td>\n",
       "      <td>1</td>\n",
       "      <td>0</td>\n",
       "      <td>accounting</td>\n",
       "      <td>low</td>\n",
       "    </tr>\n",
       "    <tr>\n",
       "      <th>1317</th>\n",
       "      <td>0.37</td>\n",
       "      <td>0.51</td>\n",
       "      <td>2</td>\n",
       "      <td>127</td>\n",
       "      <td>3</td>\n",
       "      <td>0</td>\n",
       "      <td>1</td>\n",
       "      <td>0</td>\n",
       "      <td>sales</td>\n",
       "      <td>medium</td>\n",
       "    </tr>\n",
       "    <tr>\n",
       "      <th>1368</th>\n",
       "      <td>0.41</td>\n",
       "      <td>0.52</td>\n",
       "      <td>2</td>\n",
       "      <td>132</td>\n",
       "      <td>3</td>\n",
       "      <td>0</td>\n",
       "      <td>1</td>\n",
       "      <td>0</td>\n",
       "      <td>RandD</td>\n",
       "      <td>low</td>\n",
       "    </tr>\n",
       "    <tr>\n",
       "      <th>1461</th>\n",
       "      <td>0.42</td>\n",
       "      <td>0.53</td>\n",
       "      <td>2</td>\n",
       "      <td>142</td>\n",
       "      <td>3</td>\n",
       "      <td>0</td>\n",
       "      <td>1</td>\n",
       "      <td>0</td>\n",
       "      <td>sales</td>\n",
       "      <td>low</td>\n",
       "    </tr>\n",
       "    <tr>\n",
       "      <th>...</th>\n",
       "      <td>...</td>\n",
       "      <td>...</td>\n",
       "      <td>...</td>\n",
       "      <td>...</td>\n",
       "      <td>...</td>\n",
       "      <td>...</td>\n",
       "      <td>...</td>\n",
       "      <td>...</td>\n",
       "      <td>...</td>\n",
       "      <td>...</td>\n",
       "    </tr>\n",
       "    <tr>\n",
       "      <th>14994</th>\n",
       "      <td>0.40</td>\n",
       "      <td>0.57</td>\n",
       "      <td>2</td>\n",
       "      <td>151</td>\n",
       "      <td>3</td>\n",
       "      <td>0</td>\n",
       "      <td>1</td>\n",
       "      <td>0</td>\n",
       "      <td>support</td>\n",
       "      <td>low</td>\n",
       "    </tr>\n",
       "    <tr>\n",
       "      <th>14995</th>\n",
       "      <td>0.37</td>\n",
       "      <td>0.48</td>\n",
       "      <td>2</td>\n",
       "      <td>160</td>\n",
       "      <td>3</td>\n",
       "      <td>0</td>\n",
       "      <td>1</td>\n",
       "      <td>0</td>\n",
       "      <td>support</td>\n",
       "      <td>low</td>\n",
       "    </tr>\n",
       "    <tr>\n",
       "      <th>14996</th>\n",
       "      <td>0.37</td>\n",
       "      <td>0.53</td>\n",
       "      <td>2</td>\n",
       "      <td>143</td>\n",
       "      <td>3</td>\n",
       "      <td>0</td>\n",
       "      <td>1</td>\n",
       "      <td>0</td>\n",
       "      <td>support</td>\n",
       "      <td>low</td>\n",
       "    </tr>\n",
       "    <tr>\n",
       "      <th>14997</th>\n",
       "      <td>0.11</td>\n",
       "      <td>0.96</td>\n",
       "      <td>6</td>\n",
       "      <td>280</td>\n",
       "      <td>4</td>\n",
       "      <td>0</td>\n",
       "      <td>1</td>\n",
       "      <td>0</td>\n",
       "      <td>support</td>\n",
       "      <td>low</td>\n",
       "    </tr>\n",
       "    <tr>\n",
       "      <th>14998</th>\n",
       "      <td>0.37</td>\n",
       "      <td>0.52</td>\n",
       "      <td>2</td>\n",
       "      <td>158</td>\n",
       "      <td>3</td>\n",
       "      <td>0</td>\n",
       "      <td>1</td>\n",
       "      <td>0</td>\n",
       "      <td>support</td>\n",
       "      <td>low</td>\n",
       "    </tr>\n",
       "  </tbody>\n",
       "</table>\n",
       "<p>3008 rows × 10 columns</p>\n",
       "</div>"
      ],
      "text/plain": [
       "       satisfaction_level  last_evaluation  number_of_projects  \\\n",
       "396                  0.46             0.57                   2   \n",
       "866                  0.41             0.46                   2   \n",
       "1317                 0.37             0.51                   2   \n",
       "1368                 0.41             0.52                   2   \n",
       "1461                 0.42             0.53                   2   \n",
       "...                   ...              ...                 ...   \n",
       "14994                0.40             0.57                   2   \n",
       "14995                0.37             0.48                   2   \n",
       "14996                0.37             0.53                   2   \n",
       "14997                0.11             0.96                   6   \n",
       "14998                0.37             0.52                   2   \n",
       "\n",
       "       average_monthly_hours  tenure  work_accidents  resignation  \\\n",
       "396                      139       3               0            1   \n",
       "866                      128       3               0            1   \n",
       "1317                     127       3               0            1   \n",
       "1368                     132       3               0            1   \n",
       "1461                     142       3               0            1   \n",
       "...                      ...     ...             ...          ...   \n",
       "14994                    151       3               0            1   \n",
       "14995                    160       3               0            1   \n",
       "14996                    143       3               0            1   \n",
       "14997                    280       4               0            1   \n",
       "14998                    158       3               0            1   \n",
       "\n",
       "       promotion_last_5years  department  salary  \n",
       "396                        0       sales     low  \n",
       "866                        0  accounting     low  \n",
       "1317                       0       sales  medium  \n",
       "1368                       0       RandD     low  \n",
       "1461                       0       sales     low  \n",
       "...                      ...         ...     ...  \n",
       "14994                      0     support     low  \n",
       "14995                      0     support     low  \n",
       "14996                      0     support     low  \n",
       "14997                      0     support     low  \n",
       "14998                      0     support     low  \n",
       "\n",
       "[3008 rows x 10 columns]"
      ]
     },
     "execution_count": 8,
     "metadata": {},
     "output_type": "execute_result"
    }
   ],
   "source": [
    "# Check for duplicates\n",
    "duplicateRows = df1[df1.duplicated()]\n",
    "\n",
    "duplicateRows\n",
    "\n",
    "\n"
   ]
  },
  {
   "cell_type": "code",
   "execution_count": 9,
   "metadata": {
    "id": "ZHGlDbKAcBLM"
   },
   "outputs": [
    {
     "data": {
      "text/html": [
       "<div>\n",
       "<style scoped>\n",
       "    .dataframe tbody tr th:only-of-type {\n",
       "        vertical-align: middle;\n",
       "    }\n",
       "\n",
       "    .dataframe tbody tr th {\n",
       "        vertical-align: top;\n",
       "    }\n",
       "\n",
       "    .dataframe thead th {\n",
       "        text-align: right;\n",
       "    }\n",
       "</style>\n",
       "<table border=\"1\" class=\"dataframe\">\n",
       "  <thead>\n",
       "    <tr style=\"text-align: right;\">\n",
       "      <th></th>\n",
       "      <th>satisfaction_level</th>\n",
       "      <th>last_evaluation</th>\n",
       "      <th>number_of_projects</th>\n",
       "      <th>average_monthly_hours</th>\n",
       "      <th>tenure</th>\n",
       "      <th>work_accidents</th>\n",
       "      <th>resignation</th>\n",
       "      <th>promotion_last_5years</th>\n",
       "      <th>department</th>\n",
       "      <th>salary</th>\n",
       "    </tr>\n",
       "  </thead>\n",
       "  <tbody>\n",
       "    <tr>\n",
       "      <th>13401</th>\n",
       "      <td>0.28</td>\n",
       "      <td>0.89</td>\n",
       "      <td>4</td>\n",
       "      <td>97</td>\n",
       "      <td>6</td>\n",
       "      <td>0</td>\n",
       "      <td>0</td>\n",
       "      <td>0</td>\n",
       "      <td>management</td>\n",
       "      <td>low</td>\n",
       "    </tr>\n",
       "    <tr>\n",
       "      <th>11190</th>\n",
       "      <td>0.28</td>\n",
       "      <td>0.89</td>\n",
       "      <td>4</td>\n",
       "      <td>97</td>\n",
       "      <td>6</td>\n",
       "      <td>0</td>\n",
       "      <td>0</td>\n",
       "      <td>0</td>\n",
       "      <td>management</td>\n",
       "      <td>low</td>\n",
       "    </tr>\n",
       "    <tr>\n",
       "      <th>10848</th>\n",
       "      <td>0.83</td>\n",
       "      <td>0.86</td>\n",
       "      <td>4</td>\n",
       "      <td>98</td>\n",
       "      <td>4</td>\n",
       "      <td>0</td>\n",
       "      <td>0</td>\n",
       "      <td>0</td>\n",
       "      <td>sales</td>\n",
       "      <td>low</td>\n",
       "    </tr>\n",
       "    <tr>\n",
       "      <th>10809</th>\n",
       "      <td>0.51</td>\n",
       "      <td>0.74</td>\n",
       "      <td>6</td>\n",
       "      <td>98</td>\n",
       "      <td>3</td>\n",
       "      <td>0</td>\n",
       "      <td>0</td>\n",
       "      <td>0</td>\n",
       "      <td>support</td>\n",
       "      <td>low</td>\n",
       "    </tr>\n",
       "    <tr>\n",
       "      <th>13020</th>\n",
       "      <td>0.51</td>\n",
       "      <td>0.74</td>\n",
       "      <td>6</td>\n",
       "      <td>98</td>\n",
       "      <td>3</td>\n",
       "      <td>0</td>\n",
       "      <td>0</td>\n",
       "      <td>0</td>\n",
       "      <td>support</td>\n",
       "      <td>low</td>\n",
       "    </tr>\n",
       "    <tr>\n",
       "      <th>13059</th>\n",
       "      <td>0.83</td>\n",
       "      <td>0.86</td>\n",
       "      <td>4</td>\n",
       "      <td>98</td>\n",
       "      <td>4</td>\n",
       "      <td>0</td>\n",
       "      <td>0</td>\n",
       "      <td>0</td>\n",
       "      <td>sales</td>\n",
       "      <td>low</td>\n",
       "    </tr>\n",
       "    <tr>\n",
       "      <th>11871</th>\n",
       "      <td>0.77</td>\n",
       "      <td>0.68</td>\n",
       "      <td>3</td>\n",
       "      <td>98</td>\n",
       "      <td>3</td>\n",
       "      <td>0</td>\n",
       "      <td>0</td>\n",
       "      <td>0</td>\n",
       "      <td>support</td>\n",
       "      <td>medium</td>\n",
       "    </tr>\n",
       "    <tr>\n",
       "      <th>14082</th>\n",
       "      <td>0.77</td>\n",
       "      <td>0.68</td>\n",
       "      <td>3</td>\n",
       "      <td>98</td>\n",
       "      <td>3</td>\n",
       "      <td>0</td>\n",
       "      <td>0</td>\n",
       "      <td>0</td>\n",
       "      <td>support</td>\n",
       "      <td>medium</td>\n",
       "    </tr>\n",
       "    <tr>\n",
       "      <th>13396</th>\n",
       "      <td>0.57</td>\n",
       "      <td>0.46</td>\n",
       "      <td>2</td>\n",
       "      <td>100</td>\n",
       "      <td>6</td>\n",
       "      <td>1</td>\n",
       "      <td>0</td>\n",
       "      <td>1</td>\n",
       "      <td>marketing</td>\n",
       "      <td>medium</td>\n",
       "    </tr>\n",
       "    <tr>\n",
       "      <th>11750</th>\n",
       "      <td>0.39</td>\n",
       "      <td>0.45</td>\n",
       "      <td>3</td>\n",
       "      <td>100</td>\n",
       "      <td>8</td>\n",
       "      <td>1</td>\n",
       "      <td>0</td>\n",
       "      <td>0</td>\n",
       "      <td>product_mng</td>\n",
       "      <td>medium</td>\n",
       "    </tr>\n",
       "    <tr>\n",
       "      <th>11185</th>\n",
       "      <td>0.57</td>\n",
       "      <td>0.46</td>\n",
       "      <td>2</td>\n",
       "      <td>100</td>\n",
       "      <td>6</td>\n",
       "      <td>1</td>\n",
       "      <td>0</td>\n",
       "      <td>1</td>\n",
       "      <td>marketing</td>\n",
       "      <td>medium</td>\n",
       "    </tr>\n",
       "    <tr>\n",
       "      <th>13961</th>\n",
       "      <td>0.39</td>\n",
       "      <td>0.45</td>\n",
       "      <td>3</td>\n",
       "      <td>100</td>\n",
       "      <td>8</td>\n",
       "      <td>1</td>\n",
       "      <td>0</td>\n",
       "      <td>0</td>\n",
       "      <td>product_mng</td>\n",
       "      <td>medium</td>\n",
       "    </tr>\n",
       "    <tr>\n",
       "      <th>12830</th>\n",
       "      <td>0.19</td>\n",
       "      <td>0.72</td>\n",
       "      <td>4</td>\n",
       "      <td>102</td>\n",
       "      <td>3</td>\n",
       "      <td>0</td>\n",
       "      <td>0</td>\n",
       "      <td>0</td>\n",
       "      <td>sales</td>\n",
       "      <td>medium</td>\n",
       "    </tr>\n",
       "    <tr>\n",
       "      <th>10619</th>\n",
       "      <td>0.19</td>\n",
       "      <td>0.72</td>\n",
       "      <td>4</td>\n",
       "      <td>102</td>\n",
       "      <td>3</td>\n",
       "      <td>0</td>\n",
       "      <td>0</td>\n",
       "      <td>0</td>\n",
       "      <td>sales</td>\n",
       "      <td>medium</td>\n",
       "    </tr>\n",
       "    <tr>\n",
       "      <th>13725</th>\n",
       "      <td>0.39</td>\n",
       "      <td>0.52</td>\n",
       "      <td>2</td>\n",
       "      <td>102</td>\n",
       "      <td>8</td>\n",
       "      <td>0</td>\n",
       "      <td>0</td>\n",
       "      <td>0</td>\n",
       "      <td>technical</td>\n",
       "      <td>medium</td>\n",
       "    </tr>\n",
       "    <tr>\n",
       "      <th>11514</th>\n",
       "      <td>0.39</td>\n",
       "      <td>0.52</td>\n",
       "      <td>2</td>\n",
       "      <td>102</td>\n",
       "      <td>8</td>\n",
       "      <td>0</td>\n",
       "      <td>0</td>\n",
       "      <td>0</td>\n",
       "      <td>technical</td>\n",
       "      <td>medium</td>\n",
       "    </tr>\n",
       "    <tr>\n",
       "      <th>11273</th>\n",
       "      <td>0.51</td>\n",
       "      <td>0.55</td>\n",
       "      <td>2</td>\n",
       "      <td>102</td>\n",
       "      <td>7</td>\n",
       "      <td>0</td>\n",
       "      <td>0</td>\n",
       "      <td>1</td>\n",
       "      <td>management</td>\n",
       "      <td>medium</td>\n",
       "    </tr>\n",
       "    <tr>\n",
       "      <th>13484</th>\n",
       "      <td>0.51</td>\n",
       "      <td>0.55</td>\n",
       "      <td>2</td>\n",
       "      <td>102</td>\n",
       "      <td>7</td>\n",
       "      <td>0</td>\n",
       "      <td>0</td>\n",
       "      <td>1</td>\n",
       "      <td>management</td>\n",
       "      <td>medium</td>\n",
       "    </tr>\n",
       "    <tr>\n",
       "      <th>10817</th>\n",
       "      <td>0.52</td>\n",
       "      <td>0.38</td>\n",
       "      <td>2</td>\n",
       "      <td>103</td>\n",
       "      <td>3</td>\n",
       "      <td>0</td>\n",
       "      <td>0</td>\n",
       "      <td>0</td>\n",
       "      <td>support</td>\n",
       "      <td>medium</td>\n",
       "    </tr>\n",
       "    <tr>\n",
       "      <th>11282</th>\n",
       "      <td>0.61</td>\n",
       "      <td>0.42</td>\n",
       "      <td>2</td>\n",
       "      <td>103</td>\n",
       "      <td>8</td>\n",
       "      <td>0</td>\n",
       "      <td>0</td>\n",
       "      <td>0</td>\n",
       "      <td>marketing</td>\n",
       "      <td>medium</td>\n",
       "    </tr>\n",
       "  </tbody>\n",
       "</table>\n",
       "</div>"
      ],
      "text/plain": [
       "       satisfaction_level  last_evaluation  number_of_projects  \\\n",
       "13401                0.28             0.89                   4   \n",
       "11190                0.28             0.89                   4   \n",
       "10848                0.83             0.86                   4   \n",
       "10809                0.51             0.74                   6   \n",
       "13020                0.51             0.74                   6   \n",
       "13059                0.83             0.86                   4   \n",
       "11871                0.77             0.68                   3   \n",
       "14082                0.77             0.68                   3   \n",
       "13396                0.57             0.46                   2   \n",
       "11750                0.39             0.45                   3   \n",
       "11185                0.57             0.46                   2   \n",
       "13961                0.39             0.45                   3   \n",
       "12830                0.19             0.72                   4   \n",
       "10619                0.19             0.72                   4   \n",
       "13725                0.39             0.52                   2   \n",
       "11514                0.39             0.52                   2   \n",
       "11273                0.51             0.55                   2   \n",
       "13484                0.51             0.55                   2   \n",
       "10817                0.52             0.38                   2   \n",
       "11282                0.61             0.42                   2   \n",
       "\n",
       "       average_monthly_hours  tenure  work_accidents  resignation  \\\n",
       "13401                     97       6               0            0   \n",
       "11190                     97       6               0            0   \n",
       "10848                     98       4               0            0   \n",
       "10809                     98       3               0            0   \n",
       "13020                     98       3               0            0   \n",
       "13059                     98       4               0            0   \n",
       "11871                     98       3               0            0   \n",
       "14082                     98       3               0            0   \n",
       "13396                    100       6               1            0   \n",
       "11750                    100       8               1            0   \n",
       "11185                    100       6               1            0   \n",
       "13961                    100       8               1            0   \n",
       "12830                    102       3               0            0   \n",
       "10619                    102       3               0            0   \n",
       "13725                    102       8               0            0   \n",
       "11514                    102       8               0            0   \n",
       "11273                    102       7               0            0   \n",
       "13484                    102       7               0            0   \n",
       "10817                    103       3               0            0   \n",
       "11282                    103       8               0            0   \n",
       "\n",
       "       promotion_last_5years   department  salary  \n",
       "13401                      0   management     low  \n",
       "11190                      0   management     low  \n",
       "10848                      0        sales     low  \n",
       "10809                      0      support     low  \n",
       "13020                      0      support     low  \n",
       "13059                      0        sales     low  \n",
       "11871                      0      support  medium  \n",
       "14082                      0      support  medium  \n",
       "13396                      1    marketing  medium  \n",
       "11750                      0  product_mng  medium  \n",
       "11185                      1    marketing  medium  \n",
       "13961                      0  product_mng  medium  \n",
       "12830                      0        sales  medium  \n",
       "10619                      0        sales  medium  \n",
       "13725                      0    technical  medium  \n",
       "11514                      0    technical  medium  \n",
       "11273                      1   management  medium  \n",
       "13484                      1   management  medium  \n",
       "10817                      0      support  medium  \n",
       "11282                      0    marketing  medium  "
      ]
     },
     "execution_count": 9,
     "metadata": {},
     "output_type": "execute_result"
    }
   ],
   "source": [
    "# Inspect some rows containing duplicates as needed\n",
    "display_duplicated_rows = df1[df1.duplicated(keep=False)]\n",
    "display_duplicated_rows.sort_values('average_monthly_hours').head(20)\n"
   ]
  },
  {
   "cell_type": "code",
   "execution_count": 10,
   "metadata": {
    "id": "wCr34Rppdjay"
   },
   "outputs": [
    {
     "data": {
      "text/html": [
       "<div>\n",
       "<style scoped>\n",
       "    .dataframe tbody tr th:only-of-type {\n",
       "        vertical-align: middle;\n",
       "    }\n",
       "\n",
       "    .dataframe tbody tr th {\n",
       "        vertical-align: top;\n",
       "    }\n",
       "\n",
       "    .dataframe thead th {\n",
       "        text-align: right;\n",
       "    }\n",
       "</style>\n",
       "<table border=\"1\" class=\"dataframe\">\n",
       "  <thead>\n",
       "    <tr style=\"text-align: right;\">\n",
       "      <th></th>\n",
       "      <th>satisfaction_level</th>\n",
       "      <th>last_evaluation</th>\n",
       "      <th>number_of_projects</th>\n",
       "      <th>average_monthly_hours</th>\n",
       "      <th>tenure</th>\n",
       "      <th>work_accidents</th>\n",
       "      <th>resignation</th>\n",
       "      <th>promotion_last_5years</th>\n",
       "      <th>department</th>\n",
       "      <th>salary</th>\n",
       "    </tr>\n",
       "  </thead>\n",
       "  <tbody>\n",
       "    <tr>\n",
       "      <th>0</th>\n",
       "      <td>0.38</td>\n",
       "      <td>0.53</td>\n",
       "      <td>2</td>\n",
       "      <td>157</td>\n",
       "      <td>3</td>\n",
       "      <td>0</td>\n",
       "      <td>1</td>\n",
       "      <td>0</td>\n",
       "      <td>sales</td>\n",
       "      <td>low</td>\n",
       "    </tr>\n",
       "    <tr>\n",
       "      <th>1</th>\n",
       "      <td>0.80</td>\n",
       "      <td>0.86</td>\n",
       "      <td>5</td>\n",
       "      <td>262</td>\n",
       "      <td>6</td>\n",
       "      <td>0</td>\n",
       "      <td>1</td>\n",
       "      <td>0</td>\n",
       "      <td>sales</td>\n",
       "      <td>medium</td>\n",
       "    </tr>\n",
       "    <tr>\n",
       "      <th>2</th>\n",
       "      <td>0.11</td>\n",
       "      <td>0.88</td>\n",
       "      <td>7</td>\n",
       "      <td>272</td>\n",
       "      <td>4</td>\n",
       "      <td>0</td>\n",
       "      <td>1</td>\n",
       "      <td>0</td>\n",
       "      <td>sales</td>\n",
       "      <td>medium</td>\n",
       "    </tr>\n",
       "    <tr>\n",
       "      <th>3</th>\n",
       "      <td>0.72</td>\n",
       "      <td>0.87</td>\n",
       "      <td>5</td>\n",
       "      <td>223</td>\n",
       "      <td>5</td>\n",
       "      <td>0</td>\n",
       "      <td>1</td>\n",
       "      <td>0</td>\n",
       "      <td>sales</td>\n",
       "      <td>low</td>\n",
       "    </tr>\n",
       "    <tr>\n",
       "      <th>4</th>\n",
       "      <td>0.37</td>\n",
       "      <td>0.52</td>\n",
       "      <td>2</td>\n",
       "      <td>159</td>\n",
       "      <td>3</td>\n",
       "      <td>0</td>\n",
       "      <td>1</td>\n",
       "      <td>0</td>\n",
       "      <td>sales</td>\n",
       "      <td>low</td>\n",
       "    </tr>\n",
       "    <tr>\n",
       "      <th>5</th>\n",
       "      <td>0.41</td>\n",
       "      <td>0.50</td>\n",
       "      <td>2</td>\n",
       "      <td>153</td>\n",
       "      <td>3</td>\n",
       "      <td>0</td>\n",
       "      <td>1</td>\n",
       "      <td>0</td>\n",
       "      <td>sales</td>\n",
       "      <td>low</td>\n",
       "    </tr>\n",
       "    <tr>\n",
       "      <th>6</th>\n",
       "      <td>0.10</td>\n",
       "      <td>0.77</td>\n",
       "      <td>6</td>\n",
       "      <td>247</td>\n",
       "      <td>4</td>\n",
       "      <td>0</td>\n",
       "      <td>1</td>\n",
       "      <td>0</td>\n",
       "      <td>sales</td>\n",
       "      <td>low</td>\n",
       "    </tr>\n",
       "    <tr>\n",
       "      <th>7</th>\n",
       "      <td>0.92</td>\n",
       "      <td>0.85</td>\n",
       "      <td>5</td>\n",
       "      <td>259</td>\n",
       "      <td>5</td>\n",
       "      <td>0</td>\n",
       "      <td>1</td>\n",
       "      <td>0</td>\n",
       "      <td>sales</td>\n",
       "      <td>low</td>\n",
       "    </tr>\n",
       "    <tr>\n",
       "      <th>8</th>\n",
       "      <td>0.89</td>\n",
       "      <td>1.00</td>\n",
       "      <td>5</td>\n",
       "      <td>224</td>\n",
       "      <td>5</td>\n",
       "      <td>0</td>\n",
       "      <td>1</td>\n",
       "      <td>0</td>\n",
       "      <td>sales</td>\n",
       "      <td>low</td>\n",
       "    </tr>\n",
       "    <tr>\n",
       "      <th>9</th>\n",
       "      <td>0.42</td>\n",
       "      <td>0.53</td>\n",
       "      <td>2</td>\n",
       "      <td>142</td>\n",
       "      <td>3</td>\n",
       "      <td>0</td>\n",
       "      <td>1</td>\n",
       "      <td>0</td>\n",
       "      <td>sales</td>\n",
       "      <td>low</td>\n",
       "    </tr>\n",
       "  </tbody>\n",
       "</table>\n",
       "</div>"
      ],
      "text/plain": [
       "   satisfaction_level  last_evaluation  number_of_projects  \\\n",
       "0                0.38             0.53                   2   \n",
       "1                0.80             0.86                   5   \n",
       "2                0.11             0.88                   7   \n",
       "3                0.72             0.87                   5   \n",
       "4                0.37             0.52                   2   \n",
       "5                0.41             0.50                   2   \n",
       "6                0.10             0.77                   6   \n",
       "7                0.92             0.85                   5   \n",
       "8                0.89             1.00                   5   \n",
       "9                0.42             0.53                   2   \n",
       "\n",
       "   average_monthly_hours  tenure  work_accidents  resignation  \\\n",
       "0                    157       3               0            1   \n",
       "1                    262       6               0            1   \n",
       "2                    272       4               0            1   \n",
       "3                    223       5               0            1   \n",
       "4                    159       3               0            1   \n",
       "5                    153       3               0            1   \n",
       "6                    247       4               0            1   \n",
       "7                    259       5               0            1   \n",
       "8                    224       5               0            1   \n",
       "9                    142       3               0            1   \n",
       "\n",
       "   promotion_last_5years department  salary  \n",
       "0                      0      sales     low  \n",
       "1                      0      sales  medium  \n",
       "2                      0      sales  medium  \n",
       "3                      0      sales     low  \n",
       "4                      0      sales     low  \n",
       "5                      0      sales     low  \n",
       "6                      0      sales     low  \n",
       "7                      0      sales     low  \n",
       "8                      0      sales     low  \n",
       "9                      0      sales     low  "
      ]
     },
     "execution_count": 10,
     "metadata": {},
     "output_type": "execute_result"
    }
   ],
   "source": [
    "# Drop duplicates and save resulting dataframe in a new variable as needed\n",
    "hr = df1.drop_duplicates(keep='first')\n",
    "\n",
    "\n",
    "# Display first few rows of new dataframe as needed\n",
    "hr.head(10)\n"
   ]
  },
  {
   "cell_type": "code",
   "execution_count": 11,
   "metadata": {},
   "outputs": [
    {
     "data": {
      "text/plain": [
       "0"
      ]
     },
     "execution_count": 11,
     "metadata": {},
     "output_type": "execute_result"
    }
   ],
   "source": [
    "# Checking to see if removal of duplicates was successful \n",
    "\n",
    "hr.duplicated().sum()"
   ]
  },
  {
   "cell_type": "markdown",
   "metadata": {
    "id": "4knHIoTIFu83"
   },
   "source": [
    "### Check outliers"
   ]
  },
  {
   "cell_type": "markdown",
   "metadata": {
    "id": "EaVx2fk8GC_m"
   },
   "source": [
    "Check for outliers in the data."
   ]
  },
  {
   "cell_type": "code",
   "execution_count": 12,
   "metadata": {
    "id": "pilaGYgh4LHM"
   },
   "outputs": [
    {
     "data": {
      "image/png": "[encoded data removed]",
      "text/plain": [
       "<Figure size 360x72 with 1 Axes>"
      ]
     },
     "metadata": {
      "needs_background": "light"
     },
     "output_type": "display_data"
    }
   ],
   "source": [
    "# Create a boxplot to visualize distribution of `tenure` and detect any outliers\n",
    "plt.figure(figsize=(5,1))\n",
    "sns.boxplot(x=hr['tenure'], fliersize=1)\n",
    "plt.title('Tenure box plot');\n",
    "\n"
   ]
  },
  {
   "cell_type": "code",
   "execution_count": 13,
   "metadata": {
    "id": "ohctgiHyFykI"
   },
   "outputs": [
    {
     "data": {
      "text/plain": [
       "824"
      ]
     },
     "execution_count": 13,
     "metadata": {},
     "output_type": "execute_result"
    }
   ],
   "source": [
    "# Determine the number of rows containing outliers\n",
    "(hr['tenure'] > 5).sum()\n",
    "\n"
   ]
  },
  {
   "cell_type": "markdown",
   "metadata": {
    "id": "KDcWrk57kao2"
   },
   "source": [
    "## Step 2. Data Exploration (Continue EDA)\n",
    "\n",
    "Begin by understanding how many employees left and what percentage of all employees this figure represents."
   ]
  },
  {
   "cell_type": "code",
   "execution_count": 14,
   "metadata": {},
   "outputs": [
    {
     "name": "stdout",
     "output_type": "stream",
     "text": [
      "1991 people left the company\n",
      "10000 people stayed at the company\n",
      "83.39588024351598 percent of people stayed at the company\n",
      "16.604119756484028 percent of people left at the company\n"
     ]
    }
   ],
   "source": [
    "# Get numbers of people who left vs. stayed\n",
    "\n",
    "left = (hr['resignation'].value_counts()[1])\n",
    "print(f\"{left} people left the company\")\n",
    "stayed = hr['resignation'].value_counts()[0] \n",
    "print(f\"{stayed} people stayed at the company\")\n",
    "\n",
    "\n",
    "\n",
    "# Get percentages of people who left vs. stayed\n",
    "stayed_percent = hr['resignation'].value_counts(normalize=True)[0] * 100\n",
    "left_percent = hr['resignation'].value_counts(normalize=True)[1] * 100\n",
    "print(f\"{stayed_percent} percent of people stayed at the company\")\n",
    "print(f\"{left_percent} percent of people left at the company\")"
   ]
  },
  {
   "cell_type": "markdown",
   "metadata": {
    "id": "DmVMzXPSuYk1"
   },
   "source": [
    "### Data visualizations"
   ]
  },
  {
   "cell_type": "code",
   "execution_count": 15,
   "metadata": {
    "id": "Qf0VbjX8-DBQ"
   },
   "outputs": [
    {
     "data": {
      "image/png": "[encoded data removed]",
      "text/plain": [
       "<Figure size 432x288 with 1 Axes>"
      ]
     },
     "metadata": {},
     "output_type": "display_data"
    }
   ],
   "source": [
    "# visualise workers who left vs stayed\n",
    "plt.pie(hr['resignation'].value_counts(normalize=True),labels=['stayed','left'])\n",
    "plt.show()\n",
    "\n"
   ]
  },
  {
   "cell_type": "code",
   "execution_count": 16,
   "metadata": {
    "id": "F8HlhjMy9X3A",
    "scrolled": false
   },
   "outputs": [
    {
     "data": {
      "image/png": "[encoded data removed]",
      "text/plain": [
       "<Figure size 720x720 with 2 Axes>"
      ]
     },
     "metadata": {
      "needs_background": "light"
     },
     "output_type": "display_data"
    }
   ],
   "source": [
    "# heatmap to visualise the correlations between the variables\n",
    "hr_heatmap = hr.drop(['department', 'salary'], axis=1)\n",
    "\n",
    "plt.figure(figsize=(10,10))\n",
    "sns.heatmap(hr_heatmap.corr(),annot=True,cmap='BrBG')\n",
    "plt.show()"
   ]
  },
  {
   "cell_type": "markdown",
   "metadata": {},
   "source": [
    "To begin visualising the data a heatmap was used to display the correlations between the intergral variables. This will give a valuable picture of what relationships should be of focus and are worth elaborating on.\n",
    "the highest correlation among variables, not including resignation, was between number of projects and average monthly hours which is to be expected. The second strongest thereafter was between number of projects and last evaluation which could be expored further.\n",
    "Resignation was most strongly correlated with satisfaction level, tenure and work accidents. These correlations will be observed more closely with further visualisaitons."
   ]
  },
  {
   "cell_type": "code",
   "execution_count": 17,
   "metadata": {
    "id": "NUyBruMee-EI"
   },
   "outputs": [
    {
     "data": {
      "image/png": "[encoded data removed]",
      "text/plain": [
       "<Figure size 720x360 with 1 Axes>"
      ]
     },
     "metadata": {
      "needs_background": "light"
     },
     "output_type": "display_data"
    }
   ],
   "source": [
    "# Create a plot as needed\n",
    "# tenure count bar chart and resignation\n",
    "plt.figure(figsize=(10, 5))\n",
    "p = sns.histplot(data=hr, x='tenure', hue='resignation', multiple='dodge', discrete= True, shrink=0.8)  \n",
    "plt.title('Resignation by tenure')\n",
    "plt.legend(title=None, labels=['Left', 'Stayed'])    \n",
    "plt.show()"
   ]
  },
  {
   "cell_type": "markdown",
   "metadata": {},
   "source": [
    "- This histogram shows that the majority of the resignation is occuring from the individuals who have been at the company for 3 to 6 years.\n",
    "- The longest-tenured employees didn't leave. Their satisfaction levels aligned with those of newer employees who stayed. \n",
    "- The histogram shows that there are relatively few longer-tenured employees. It's possible that they're the higher-ranking, higher-paid employees."
   ]
  },
  {
   "cell_type": "code",
   "execution_count": 18,
   "metadata": {
    "id": "3v1uJR5y3MEy"
   },
   "outputs": [
    {
     "data": {
      "image/png": "[encoded data removed]",
      "text/plain": [
       "<Figure size 360x720 with 1 Axes>"
      ]
     },
     "metadata": {
      "needs_background": "light"
     },
     "output_type": "display_data"
    }
   ],
   "source": [
    "# Create a plot as needed\n",
    "# box plot of satisfaction level and resignation\n",
    "plt.figure(figsize=(5,10))\n",
    "p = sns.boxplot(y=hr['satisfaction_level'],x=hr['resignation'] , fliersize=1)\n",
    "p.set(xticklabels=(['Stayed', 'Left']))\n",
    "plt.title('Satisfaction level by Resignation status')\n",
    "plt.show()"
   ]
  },
  {
   "cell_type": "markdown",
   "metadata": {},
   "source": [
    "The boxplot shows that the individuals who left showed a lower level of satisfaction in comparison to individuals who stayed at the company."
   ]
  },
  {
   "cell_type": "code",
   "execution_count": 19,
   "metadata": {
    "id": "UCVs81NILbhn"
   },
   "outputs": [
    {
     "data": {
      "image/png": "[encoded data removed]",
      "text/plain": [
       "<Figure size 720x360 with 1 Axes>"
      ]
     },
     "metadata": {
      "needs_background": "light"
     },
     "output_type": "display_data"
    }
   ],
   "source": [
    "# Create a plot as needed\n",
    "# count bar chart work accident and resignation\n",
    "plt.figure(figsize=(10, 5))\n",
    "p = sns.histplot(data=hr, x='work_accidents', hue='resignation', multiple='dodge', discrete= True, shrink=0.8)  \n",
    "p.set(xticklabels=([' ', '',  'No work accidents', ' ', ' ', ' ', 'Work accidents']))\n",
    "plt.title('Resignation by work accidents', fontsize=8)\n",
    "plt.legend(title=None, labels=['Left', 'Stayed'])    \n",
    "plt.show()"
   ]
  },
  {
   "cell_type": "markdown",
   "metadata": {},
   "source": [
    "This histogram shows that more workers have no work accidents than workers who have accidents. The comparision between workers who either having a work accident or not and whether they leave is difficult to visually observe on this histogram because of the difference in the proportion of workers who experience work accidents and those who do not experience work accidents. Findings drawn from this visualisation should be obtained with caution and with the proportions in mind."
   ]
  },
  {
   "cell_type": "code",
   "execution_count": 20,
   "metadata": {
    "id": "cGitCvzvdbjF"
   },
   "outputs": [
    {
     "data": {
      "image/png": "[encoded data removed]",
      "text/plain": [
       "<Figure size 720x360 with 1 Axes>"
      ]
     },
     "metadata": {
      "needs_background": "light"
     },
     "output_type": "display_data"
    }
   ],
   "source": [
    "# Create a plot as needed\n",
    "# department and resignation\n",
    "plt.figure(figsize=(10, 5))\n",
    "p = sns.histplot(data=hr, x='department', hue='resignation', multiple='dodge', discrete= True, shrink=0.8)  \n",
    "plt.xticks(fontsize = 8)\n",
    "plt.title('Resignation by department')\n",
    "plt.legend(title=None, labels=['Left', 'Stayed'])    \n",
    "plt.show()"
   ]
  },
  {
   "cell_type": "markdown",
   "metadata": {},
   "source": [
    "- This histogram shows that the department that contains the most workers who stayed is the sales department. \n",
    "- The department that display fewer workers overall show a relatively high proportion of their workers leaving which suggests and could be because the work disrtibution among these workers in their departments may not be reasonable."
   ]
  },
  {
   "cell_type": "code",
   "execution_count": 21,
   "metadata": {
    "id": "6TyBo1uxsSpc"
   },
   "outputs": [
    {
     "data": {
      "image/png": "[encoded data removed]",
      "text/plain": [
       "<Figure size 720x360 with 1 Axes>"
      ]
     },
     "metadata": {
      "needs_background": "light"
     },
     "output_type": "display_data"
    }
   ],
   "source": [
    "# Create a plot as needed\n",
    "#salary and resignation\n",
    "plt.figure(figsize=(10, 5))\n",
    "p = sns.histplot(data=hr, x='salary', hue='resignation', multiple='dodge', discrete= True, shrink=0.8)  \n",
    "plt.title('Resignation by salary')\n",
    "plt.legend(title=None, labels=['Left', 'Stayed'])    \n",
    "plt.show()"
   ]
  },
  {
   "cell_type": "markdown",
   "metadata": {},
   "source": [
    "The most common salaries of the workers are low and median salary workers.\n",
    "The amount of low workers who stayed is similar in both the low and median salary workers. The workers who left is higher among the low salary workers compared to the medium salary workers.\n",
    "There are not as many high paid workers. Among the high paid workers there are also not many who have left the company. \n"
   ]
  },
  {
   "cell_type": "markdown",
   "metadata": {},
   "source": [
    "## Modeling"
   ]
  },
  {
   "cell_type": "markdown",
   "metadata": {
    "id": "UePZZyi_Okdz"
   },
   "source": [
    "### Feature transformation\n"
   ]
  },
  {
   "cell_type": "code",
   "execution_count": 22,
   "metadata": {},
   "outputs": [],
   "source": [
    "# Dummy encoding variables so they can be used in the model\n",
    "hr_modeling = pd.get_dummies(hr, drop_first=True)"
   ]
  },
  {
   "cell_type": "code",
   "execution_count": 23,
   "metadata": {},
   "outputs": [
    {
     "data": {
      "text/html": [
       "<div>\n",
       "<style scoped>\n",
       "    .dataframe tbody tr th:only-of-type {\n",
       "        vertical-align: middle;\n",
       "    }\n",
       "\n",
       "    .dataframe tbody tr th {\n",
       "        vertical-align: top;\n",
       "    }\n",
       "\n",
       "    .dataframe thead th {\n",
       "        text-align: right;\n",
       "    }\n",
       "</style>\n",
       "<table border=\"1\" class=\"dataframe\">\n",
       "  <thead>\n",
       "    <tr style=\"text-align: right;\">\n",
       "      <th></th>\n",
       "      <th>satisfaction_level</th>\n",
       "      <th>last_evaluation</th>\n",
       "      <th>number_of_projects</th>\n",
       "      <th>average_monthly_hours</th>\n",
       "      <th>tenure</th>\n",
       "      <th>work_accidents</th>\n",
       "      <th>resignation</th>\n",
       "      <th>promotion_last_5years</th>\n",
       "      <th>department_RandD</th>\n",
       "      <th>department_accounting</th>\n",
       "      <th>department_hr</th>\n",
       "      <th>department_management</th>\n",
       "      <th>department_marketing</th>\n",
       "      <th>department_product_mng</th>\n",
       "      <th>department_sales</th>\n",
       "      <th>department_support</th>\n",
       "      <th>department_technical</th>\n",
       "      <th>salary_low</th>\n",
       "      <th>salary_medium</th>\n",
       "    </tr>\n",
       "  </thead>\n",
       "  <tbody>\n",
       "    <tr>\n",
       "      <th>0</th>\n",
       "      <td>0.38</td>\n",
       "      <td>0.53</td>\n",
       "      <td>2</td>\n",
       "      <td>157</td>\n",
       "      <td>3</td>\n",
       "      <td>0</td>\n",
       "      <td>1</td>\n",
       "      <td>0</td>\n",
       "      <td>0</td>\n",
       "      <td>0</td>\n",
       "      <td>0</td>\n",
       "      <td>0</td>\n",
       "      <td>0</td>\n",
       "      <td>0</td>\n",
       "      <td>1</td>\n",
       "      <td>0</td>\n",
       "      <td>0</td>\n",
       "      <td>1</td>\n",
       "      <td>0</td>\n",
       "    </tr>\n",
       "    <tr>\n",
       "      <th>1</th>\n",
       "      <td>0.80</td>\n",
       "      <td>0.86</td>\n",
       "      <td>5</td>\n",
       "      <td>262</td>\n",
       "      <td>6</td>\n",
       "      <td>0</td>\n",
       "      <td>1</td>\n",
       "      <td>0</td>\n",
       "      <td>0</td>\n",
       "      <td>0</td>\n",
       "      <td>0</td>\n",
       "      <td>0</td>\n",
       "      <td>0</td>\n",
       "      <td>0</td>\n",
       "      <td>1</td>\n",
       "      <td>0</td>\n",
       "      <td>0</td>\n",
       "      <td>0</td>\n",
       "      <td>1</td>\n",
       "    </tr>\n",
       "    <tr>\n",
       "      <th>2</th>\n",
       "      <td>0.11</td>\n",
       "      <td>0.88</td>\n",
       "      <td>7</td>\n",
       "      <td>272</td>\n",
       "      <td>4</td>\n",
       "      <td>0</td>\n",
       "      <td>1</td>\n",
       "      <td>0</td>\n",
       "      <td>0</td>\n",
       "      <td>0</td>\n",
       "      <td>0</td>\n",
       "      <td>0</td>\n",
       "      <td>0</td>\n",
       "      <td>0</td>\n",
       "      <td>1</td>\n",
       "      <td>0</td>\n",
       "      <td>0</td>\n",
       "      <td>0</td>\n",
       "      <td>1</td>\n",
       "    </tr>\n",
       "    <tr>\n",
       "      <th>3</th>\n",
       "      <td>0.72</td>\n",
       "      <td>0.87</td>\n",
       "      <td>5</td>\n",
       "      <td>223</td>\n",
       "      <td>5</td>\n",
       "      <td>0</td>\n",
       "      <td>1</td>\n",
       "      <td>0</td>\n",
       "      <td>0</td>\n",
       "      <td>0</td>\n",
       "      <td>0</td>\n",
       "      <td>0</td>\n",
       "      <td>0</td>\n",
       "      <td>0</td>\n",
       "      <td>1</td>\n",
       "      <td>0</td>\n",
       "      <td>0</td>\n",
       "      <td>1</td>\n",
       "      <td>0</td>\n",
       "    </tr>\n",
       "    <tr>\n",
       "      <th>4</th>\n",
       "      <td>0.37</td>\n",
       "      <td>0.52</td>\n",
       "      <td>2</td>\n",
       "      <td>159</td>\n",
       "      <td>3</td>\n",
       "      <td>0</td>\n",
       "      <td>1</td>\n",
       "      <td>0</td>\n",
       "      <td>0</td>\n",
       "      <td>0</td>\n",
       "      <td>0</td>\n",
       "      <td>0</td>\n",
       "      <td>0</td>\n",
       "      <td>0</td>\n",
       "      <td>1</td>\n",
       "      <td>0</td>\n",
       "      <td>0</td>\n",
       "      <td>1</td>\n",
       "      <td>0</td>\n",
       "    </tr>\n",
       "    <tr>\n",
       "      <th>5</th>\n",
       "      <td>0.41</td>\n",
       "      <td>0.50</td>\n",
       "      <td>2</td>\n",
       "      <td>153</td>\n",
       "      <td>3</td>\n",
       "      <td>0</td>\n",
       "      <td>1</td>\n",
       "      <td>0</td>\n",
       "      <td>0</td>\n",
       "      <td>0</td>\n",
       "      <td>0</td>\n",
       "      <td>0</td>\n",
       "      <td>0</td>\n",
       "      <td>0</td>\n",
       "      <td>1</td>\n",
       "      <td>0</td>\n",
       "      <td>0</td>\n",
       "      <td>1</td>\n",
       "      <td>0</td>\n",
       "    </tr>\n",
       "    <tr>\n",
       "      <th>6</th>\n",
       "      <td>0.10</td>\n",
       "      <td>0.77</td>\n",
       "      <td>6</td>\n",
       "      <td>247</td>\n",
       "      <td>4</td>\n",
       "      <td>0</td>\n",
       "      <td>1</td>\n",
       "      <td>0</td>\n",
       "      <td>0</td>\n",
       "      <td>0</td>\n",
       "      <td>0</td>\n",
       "      <td>0</td>\n",
       "      <td>0</td>\n",
       "      <td>0</td>\n",
       "      <td>1</td>\n",
       "      <td>0</td>\n",
       "      <td>0</td>\n",
       "      <td>1</td>\n",
       "      <td>0</td>\n",
       "    </tr>\n",
       "    <tr>\n",
       "      <th>7</th>\n",
       "      <td>0.92</td>\n",
       "      <td>0.85</td>\n",
       "      <td>5</td>\n",
       "      <td>259</td>\n",
       "      <td>5</td>\n",
       "      <td>0</td>\n",
       "      <td>1</td>\n",
       "      <td>0</td>\n",
       "      <td>0</td>\n",
       "      <td>0</td>\n",
       "      <td>0</td>\n",
       "      <td>0</td>\n",
       "      <td>0</td>\n",
       "      <td>0</td>\n",
       "      <td>1</td>\n",
       "      <td>0</td>\n",
       "      <td>0</td>\n",
       "      <td>1</td>\n",
       "      <td>0</td>\n",
       "    </tr>\n",
       "    <tr>\n",
       "      <th>8</th>\n",
       "      <td>0.89</td>\n",
       "      <td>1.00</td>\n",
       "      <td>5</td>\n",
       "      <td>224</td>\n",
       "      <td>5</td>\n",
       "      <td>0</td>\n",
       "      <td>1</td>\n",
       "      <td>0</td>\n",
       "      <td>0</td>\n",
       "      <td>0</td>\n",
       "      <td>0</td>\n",
       "      <td>0</td>\n",
       "      <td>0</td>\n",
       "      <td>0</td>\n",
       "      <td>1</td>\n",
       "      <td>0</td>\n",
       "      <td>0</td>\n",
       "      <td>1</td>\n",
       "      <td>0</td>\n",
       "    </tr>\n",
       "    <tr>\n",
       "      <th>9</th>\n",
       "      <td>0.42</td>\n",
       "      <td>0.53</td>\n",
       "      <td>2</td>\n",
       "      <td>142</td>\n",
       "      <td>3</td>\n",
       "      <td>0</td>\n",
       "      <td>1</td>\n",
       "      <td>0</td>\n",
       "      <td>0</td>\n",
       "      <td>0</td>\n",
       "      <td>0</td>\n",
       "      <td>0</td>\n",
       "      <td>0</td>\n",
       "      <td>0</td>\n",
       "      <td>1</td>\n",
       "      <td>0</td>\n",
       "      <td>0</td>\n",
       "      <td>1</td>\n",
       "      <td>0</td>\n",
       "    </tr>\n",
       "  </tbody>\n",
       "</table>\n",
       "</div>"
      ],
      "text/plain": [
       "   satisfaction_level  last_evaluation  number_of_projects  \\\n",
       "0                0.38             0.53                   2   \n",
       "1                0.80             0.86                   5   \n",
       "2                0.11             0.88                   7   \n",
       "3                0.72             0.87                   5   \n",
       "4                0.37             0.52                   2   \n",
       "5                0.41             0.50                   2   \n",
       "6                0.10             0.77                   6   \n",
       "7                0.92             0.85                   5   \n",
       "8                0.89             1.00                   5   \n",
       "9                0.42             0.53                   2   \n",
       "\n",
       "   average_monthly_hours  tenure  work_accidents  resignation  \\\n",
       "0                    157       3               0            1   \n",
       "1                    262       6               0            1   \n",
       "2                    272       4               0            1   \n",
       "3                    223       5               0            1   \n",
       "4                    159       3               0            1   \n",
       "5                    153       3               0            1   \n",
       "6                    247       4               0            1   \n",
       "7                    259       5               0            1   \n",
       "8                    224       5               0            1   \n",
       "9                    142       3               0            1   \n",
       "\n",
       "   promotion_last_5years  department_RandD  department_accounting  \\\n",
       "0                      0                 0                      0   \n",
       "1                      0                 0                      0   \n",
       "2                      0                 0                      0   \n",
       "3                      0                 0                      0   \n",
       "4                      0                 0                      0   \n",
       "5                      0                 0                      0   \n",
       "6                      0                 0                      0   \n",
       "7                      0                 0                      0   \n",
       "8                      0                 0                      0   \n",
       "9                      0                 0                      0   \n",
       "\n",
       "   department_hr  department_management  department_marketing  \\\n",
       "0              0                      0                     0   \n",
       "1              0                      0                     0   \n",
       "2              0                      0                     0   \n",
       "3              0                      0                     0   \n",
       "4              0                      0                     0   \n",
       "5              0                      0                     0   \n",
       "6              0                      0                     0   \n",
       "7              0                      0                     0   \n",
       "8              0                      0                     0   \n",
       "9              0                      0                     0   \n",
       "\n",
       "   department_product_mng  department_sales  department_support  \\\n",
       "0                       0                 1                   0   \n",
       "1                       0                 1                   0   \n",
       "2                       0                 1                   0   \n",
       "3                       0                 1                   0   \n",
       "4                       0                 1                   0   \n",
       "5                       0                 1                   0   \n",
       "6                       0                 1                   0   \n",
       "7                       0                 1                   0   \n",
       "8                       0                 1                   0   \n",
       "9                       0                 1                   0   \n",
       "\n",
       "   department_technical  salary_low  salary_medium  \n",
       "0                     0           1              0  \n",
       "1                     0           0              1  \n",
       "2                     0           0              1  \n",
       "3                     0           1              0  \n",
       "4                     0           1              0  \n",
       "5                     0           1              0  \n",
       "6                     0           1              0  \n",
       "7                     0           1              0  \n",
       "8                     0           1              0  \n",
       "9                     0           1              0  "
      ]
     },
     "execution_count": 23,
     "metadata": {},
     "output_type": "execute_result"
    }
   ],
   "source": [
    "# Observing the results of dummy encoding\n",
    "hr_modeling.head(10)"
   ]
  },
  {
   "cell_type": "code",
   "execution_count": 24,
   "metadata": {},
   "outputs": [],
   "source": [
    "# splitting the data into target variable and training/validation/test sets\n",
    "\n",
    "# X variables\n",
    "X = hr_modeling.drop(columns=['resignation'])\n",
    "\n",
    "# y variable\n",
    "y = hr_modeling['resignation']\n",
    "\n",
    "# Split into train and test sets\n",
    "X_tr, X_test, y_tr, y_test = train_test_split(X, y, stratify=y,\n",
    "                                              test_size=0.2, random_state=42)\n",
    "\n",
    "# split into train and validate sets\n",
    "X_train, X_val, y_train, y_val = train_test_split(X_tr, y_tr, stratify=y_tr,\n",
    "                                                  test_size=0.25, random_state=42)"
   ]
  },
  {
   "cell_type": "code",
   "execution_count": 25,
   "metadata": {},
   "outputs": [
    {
     "name": "stdout",
     "output_type": "stream",
     "text": [
      "7194\n",
      "2398\n",
      "2399\n"
     ]
    }
   ],
   "source": [
    "# observe the split sets\n",
    "\n",
    "for x in [X_train, X_val, X_test]:\n",
    "    print(len(x))"
   ]
  },
  {
   "cell_type": "markdown",
   "metadata": {},
   "source": [
    "Building a random forest model"
   ]
  },
  {
   "cell_type": "code",
   "execution_count": 26,
   "metadata": {},
   "outputs": [],
   "source": [
    "# Use random forest classifier\n",
    "rf = RandomForestClassifier(random_state=42)\n",
    "\n",
    "# Create a dictionary of hyperparameters to tune \n",
    "cv_params = {'max_depth': [5, None],\n",
    "             'max_features': [1.0],\n",
    "             'max_samples': [0.8, 1.0],\n",
    "             'min_samples_leaf': [1, 2, 3],\n",
    "             'min_samples_split': [1, 2, 3],\n",
    "             'n_estimators': [300, 400],\n",
    "             }\n",
    "\n",
    "# Define a dictionary of scoring metrics to capture\n",
    "scoring = {'accuracy', 'precision', 'recall', 'f1'}\n",
    "\n",
    "# Instantiate the GridSearchCV object\n",
    "rf_cv = GridSearchCV(rf, cv_params, scoring=scoring, cv=4, refit='recall')"
   ]
  },
  {
   "cell_type": "code",
   "execution_count": 27,
   "metadata": {},
   "outputs": [
    {
     "name": "stdout",
     "output_type": "stream",
     "text": [
      "CPU times: user 4min 2s, sys: 374 ms, total: 4min 3s\n",
      "Wall time: 4min 3s\n"
     ]
    },
    {
     "data": {
      "text/plain": [
       "GridSearchCV(cv=4, error_score=nan,\n",
       "             estimator=RandomForestClassifier(bootstrap=True, ccp_alpha=0.0,\n",
       "                                              class_weight=None,\n",
       "                                              criterion='gini', max_depth=None,\n",
       "                                              max_features='auto',\n",
       "                                              max_leaf_nodes=None,\n",
       "                                              max_samples=None,\n",
       "                                              min_impurity_decrease=0.0,\n",
       "                                              min_impurity_split=None,\n",
       "                                              min_samples_leaf=1,\n",
       "                                              min_samples_split=2,\n",
       "                                              min_weight_fraction_leaf=0.0,\n",
       "                                              n_estimators=100, n_jobs=None,\n",
       "                                              oob_score=False, random_state=42,\n",
       "                                              verbose=0, warm_start=False),\n",
       "             iid='deprecated', n_jobs=None,\n",
       "             param_grid={'max_depth': [5, None], 'max_features': [1.0],\n",
       "                         'max_samples': [0.8, 1.0],\n",
       "                         'min_samples_leaf': [1, 2, 3],\n",
       "                         'min_samples_split': [1, 2, 3],\n",
       "                         'n_estimators': [300, 400]},\n",
       "             pre_dispatch='2*n_jobs', refit='recall', return_train_score=False,\n",
       "             scoring={'f1', 'accuracy', 'recall', 'precision'}, verbose=0)"
      ]
     },
     "execution_count": 27,
     "metadata": {},
     "output_type": "execute_result"
    }
   ],
   "source": [
    "%%time\n",
    "rf_cv.fit(X_train, y_train)"
   ]
  },
  {
   "cell_type": "code",
   "execution_count": 28,
   "metadata": {},
   "outputs": [
    {
     "data": {
      "text/plain": [
       "0.9121287962110839"
      ]
     },
     "execution_count": 28,
     "metadata": {},
     "output_type": "execute_result"
    }
   ],
   "source": [
    "# best score\n",
    "\n",
    "rf_cv.best_score_"
   ]
  },
  {
   "cell_type": "code",
   "execution_count": 29,
   "metadata": {},
   "outputs": [
    {
     "data": {
      "text/plain": [
       "{'max_depth': 5,\n",
       " 'max_features': 1.0,\n",
       " 'max_samples': 0.8,\n",
       " 'min_samples_leaf': 1,\n",
       " 'min_samples_split': 2,\n",
       " 'n_estimators': 300}"
      ]
     },
     "execution_count": 29,
     "metadata": {},
     "output_type": "execute_result"
    }
   ],
   "source": [
    "# obtain the best parameters\n",
    "\n",
    "rf_cv.best_params_"
   ]
  },
  {
   "cell_type": "code",
   "execution_count": 30,
   "metadata": {},
   "outputs": [],
   "source": [
    "# using best model to predict validation data\n",
    "\n",
    "rf_val_preds = rf_cv.best_estimator_.predict(X_val)"
   ]
  },
  {
   "cell_type": "markdown",
   "metadata": {},
   "source": [
    "Bulding an XGBoost model"
   ]
  },
  {
   "cell_type": "code",
   "execution_count": 32,
   "metadata": {},
   "outputs": [],
   "source": [
    "xgb = XGBClassifier(objective='binary:logistic', random_state=42)\n",
    "\n",
    "# 2. Create a dictionary of hyperparameters to tune\n",
    "cv_params = {'max_depth': [6, 8, 12],\n",
    "             'min_child_weight': [3, 4,5],\n",
    "             'learning_rate': [0.01, 0.1],\n",
    "             'n_estimators': [300, 500]\n",
    "             }\n",
    "\n",
    "# 3. Define a dictionary of scoring metrics to capture\n",
    "scoring = {'accuracy', 'precision', 'recall', 'f1'}\n",
    "\n",
    "# 4. Instantiate the GridSearchCV object\n",
    "xgb_cv = GridSearchCV(xgb, cv_params, scoring=scoring, cv=4, refit='recall')"
   ]
  },
  {
   "cell_type": "code",
   "execution_count": 33,
   "metadata": {},
   "outputs": [
    {
     "name": "stdout",
     "output_type": "stream",
     "text": [
      "CPU times: user 10min 21s, sys: 4.5 s, total: 10min 25s\n",
      "Wall time: 5min 15s\n"
     ]
    },
    {
     "data": {
      "text/plain": [
       "GridSearchCV(cv=4, error_score=nan,\n",
       "             estimator=XGBClassifier(base_score=None, booster=None,\n",
       "                                     callbacks=None, colsample_bylevel=None,\n",
       "                                     colsample_bynode=None,\n",
       "                                     colsample_bytree=None,\n",
       "                                     early_stopping_rounds=None,\n",
       "                                     enable_categorical=False, eval_metric=None,\n",
       "                                     gamma=None, gpu_id=None, grow_policy=None,\n",
       "                                     importance_type=None,\n",
       "                                     interaction_constraints=None,\n",
       "                                     learning_rate=None, max...\n",
       "                                     num_parallel_tree=None,\n",
       "                                     objective='binary:logistic',\n",
       "                                     predictor=None, random_state=42,\n",
       "                                     reg_alpha=None, ...),\n",
       "             iid='deprecated', n_jobs=None,\n",
       "             param_grid={'learning_rate': [0.01, 0.1], 'max_depth': [6, 8, 12],\n",
       "                         'min_child_weight': [3, 4, 5],\n",
       "                         'n_estimators': [300, 500]},\n",
       "             pre_dispatch='2*n_jobs', refit='recall', return_train_score=False,\n",
       "             scoring={'f1', 'accuracy', 'recall', 'precision'}, verbose=0)"
      ]
     },
     "execution_count": 33,
     "metadata": {},
     "output_type": "execute_result"
    }
   ],
   "source": [
    "%%time\n",
    "xgb_cv.fit(X_train, y_train)"
   ]
  },
  {
   "cell_type": "code",
   "execution_count": 34,
   "metadata": {},
   "outputs": [
    {
     "data": {
      "text/plain": [
       "0.910445332315773"
      ]
     },
     "execution_count": 34,
     "metadata": {},
     "output_type": "execute_result"
    }
   ],
   "source": [
    "xgb_cv.best_score_"
   ]
  },
  {
   "cell_type": "code",
   "execution_count": 35,
   "metadata": {},
   "outputs": [
    {
     "data": {
      "text/plain": [
       "{'learning_rate': 0.1,\n",
       " 'max_depth': 6,\n",
       " 'min_child_weight': 4,\n",
       " 'n_estimators': 500}"
      ]
     },
     "execution_count": 35,
     "metadata": {},
     "output_type": "execute_result"
    }
   ],
   "source": [
    "xgb_cv.best_params_"
   ]
  },
  {
   "cell_type": "code",
   "execution_count": 37,
   "metadata": {},
   "outputs": [],
   "source": [
    "# Use XGBoost model to predict on validation data\n",
    "xgb_val_preds = xgb_cv.best_estimator_.predict(X_val)\n"
   ]
  },
  {
   "cell_type": "code",
   "execution_count": 31,
   "metadata": {},
   "outputs": [
    {
     "name": "stdout",
     "output_type": "stream",
     "text": [
      "Random Forest validation scores\n",
      "Accuracy: 0.9791492910758965\n",
      "Precision: 0.9484536082474226\n",
      "Recall (Sensitivity): 0.9246231155778895\n",
      "F1-Score: 0.9363867684478372\n"
     ]
    }
   ],
   "source": [
    "# Get validation scores for RF model\n",
    "\n",
    "# Calculate accuracy\n",
    "\n",
    "print('Random Forest validation scores')\n",
    "\n",
    "accuracy = accuracy_score(y_val, rf_val_preds)\n",
    "print(\"Accuracy:\", accuracy)\n",
    "\n",
    "# Calculate precision\n",
    "precision = precision_score(y_val, rf_val_preds)\n",
    "print(\"Precision:\", precision)\n",
    "\n",
    "# Calculate recall (sensitivity)\n",
    "recall = recall_score(y_val, rf_val_preds)\n",
    "print(\"Recall (Sensitivity):\", recall)\n",
    "\n",
    "# Calculate F1-score\n",
    "f1 = f1_score(y_val, rf_val_preds)\n",
    "print(\"F1-Score:\", f1)"
   ]
  },
  {
   "cell_type": "code",
   "execution_count": 38,
   "metadata": {},
   "outputs": [
    {
     "name": "stdout",
     "output_type": "stream",
     "text": [
      "XGboost validation scores\n",
      "Accuracy: 0.9812343619683069\n",
      "Precision: 0.9681697612732095\n",
      "Recall (Sensitivity): 0.9170854271356784\n",
      "F1-Score: 0.9419354838709677\n"
     ]
    }
   ],
   "source": [
    "# Get validation scores for XGBoost model\n",
    "\n",
    "# Calculate accuracy\n",
    "\n",
    "print('XGboost validation scores')\n",
    "\n",
    "accuracy = accuracy_score(y_val, xgb_val_preds)\n",
    "print(\"Accuracy:\", accuracy)\n",
    "\n",
    "# Calculate precision\n",
    "precision = precision_score(y_val, xgb_val_preds)\n",
    "print(\"Precision:\", precision)\n",
    "\n",
    "# Calculate recall (sensitivity)\n",
    "recall = recall_score(y_val, xgb_val_preds)\n",
    "print(\"Recall (Sensitivity):\", recall)\n",
    "\n",
    "# Calculate F1-score\n",
    "f1 = f1_score(y_val, xgb_val_preds)\n",
    "print(\"F1-Score:\", f1)"
   ]
  },
  {
   "cell_type": "markdown",
   "metadata": {},
   "source": [
    "The XGBoost model obtained higher scores in Accuracy, Precision and F1 scores and only a slightly lower recall score than the random forest model on the validation data. The Champion model is therefore the XGBoost model and it will be used as it is the better model and will be able to make better predictions. ="
   ]
  },
  {
   "cell_type": "code",
   "execution_count": 39,
   "metadata": {},
   "outputs": [],
   "source": [
    "# Use champion model to predict on test data\n",
    "\n",
    "xgb_test_preds = xgb_cv.best_estimator_.predict(X_test)"
   ]
  },
  {
   "cell_type": "code",
   "execution_count": 40,
   "metadata": {},
   "outputs": [
    {
     "name": "stdout",
     "output_type": "stream",
     "text": [
      "XGboost test scores\n",
      "Accuracy: 0.9808253438932889\n",
      "Precision: 0.9512820512820512\n",
      "Recall (Sensitivity): 0.9321608040201005\n",
      "F1-Score: 0.9416243654822335\n"
     ]
    }
   ],
   "source": [
    "# Get test scores for XGBoost model\n",
    "print('XGboost test scores')\n",
    "\n",
    "accuracy = accuracy_score(y_test, xgb_test_preds)\n",
    "print(\"Accuracy:\", accuracy)\n",
    "\n",
    "# Calculate precision\n",
    "precision = precision_score(y_test, xgb_test_preds)\n",
    "print(\"Precision:\", precision)\n",
    "\n",
    "# Calculate recall (sensitivity)\n",
    "recall = recall_score(y_test, xgb_test_preds)\n",
    "print(\"Recall (Sensitivity):\", recall)\n",
    "\n",
    "# Calculate F1-score\n",
    "f1 = f1_score(y_test, xgb_test_preds)\n",
    "print(\"F1-Score:\", f1)\n"
   ]
  },
  {
   "cell_type": "code",
   "execution_count": 41,
   "metadata": {
    "scrolled": true
   },
   "outputs": [
    {
     "data": {
      "image/png": "[encoded data removed]",
      "text/plain": [
       "<Figure size 432x288 with 2 Axes>"
      ]
     },
     "metadata": {
      "needs_background": "light"
     },
     "output_type": "display_data"
    }
   ],
   "source": [
    "# Generate array of values for confusion matrix\n",
    "cm = confusion_matrix(y_test, xgb_test_preds, labels=xgb_cv.classes_)\n",
    "\n",
    "# Plot confusion matrix\n",
    "disp = ConfusionMatrixDisplay(confusion_matrix=cm,\n",
    "                             display_labels=['stayed', 'left'])\n",
    "disp.plot();"
   ]
  },
  {
   "cell_type": "markdown",
   "metadata": {},
   "source": [
    "The model was able to predict that 370 of the total 397 employees who left and was able to predict 2000 of the 2019 users who stayed."
   ]
  },
  {
   "cell_type": "code",
   "execution_count": 42,
   "metadata": {},
   "outputs": [
    {
     "data": {
      "image/png": "[encoded data removed]",
      "text/plain": [
       "<Figure size 432x288 with 1 Axes>"
      ]
     },
     "metadata": {
      "needs_background": "light"
     },
     "output_type": "display_data"
    }
   ],
   "source": [
    "# display feature importance\n",
    "plot_importance(xgb_cv.best_estimator_);"
   ]
  },
  {
   "cell_type": "markdown",
   "metadata": {},
   "source": [
    "Conclusion \n",
    "\n",
    "- A XGBoost model was the most accurate model in predicting whether an employee at Salifort would leave or not. \n",
    "- The model was able to predict 370 of the 397 who left the company. The model can be effectively implemented to reduce the employees who left the company. \n",
    "- Results from the model show that the average monthly hours, employee satisfaction level, the number of projects an employee undertakes and tenure are the most important reasons for an employee leaving the company. \n",
    "- In line with earlier EDA, the distribution of workers per department suggested that workers within certain departments may be overworked and that they may be given an unrealistic quanitity of work to conduct. The model supports this with the important aspects being work hours number of projects and last evaluation. \n",
    "- Salifort should consider the distribution of work/projects and the demands they are setting their workers to improve their employees satisfaction levels. \n",
    "- The implimentation of changes in work/project demands could benefit their employees satisfaction as well as the scores of the employees during their evaluations which will induce benefits to both the employees satisfaction and the companies performance as well as achieve the main goal of retaining workers at Salifort."
   ]
  }
 ],
 "metadata": {
  "colab": {
   "provenance": []
  },
  "gpuClass": "standard",
  "kernelspec": {
   "display_name": "Python 3 (ipykernel)",
   "language": "python",
   "name": "python3"
  },
  "language_info": {
   "codemirror_mode": {
    "name": "ipython",
    "version": 3
   },
   "file_extension": ".py",
   "mimetype": "text/x-python",
   "name": "python",
   "nbconvert_exporter": "python",
   "pygments_lexer": "ipython3",
   "version": "3.11.4"
  }
 },
 "nbformat": 4,
 "nbformat_minor": 1
}
